{
 "cells": [
  {
   "cell_type": "markdown",
   "metadata": {},
   "source": [
    "\n",
    "Welcome to this tutorial on installing and using the latest CorgiSim simulation tools. In this guide, we'll walk through how to set up and run simulations of an on-axis host star with off-axis companions for observations with the Roman Coronagraph Instrument (CGI).\n",
    "\n",
    " This tutorial is intended to help you get started quickly and to provide a clear overview of CorgiSim’s current infrastructure and workflow. It's especially geared toward those interested in contributing to the development and improvement of the code.\n"
   ]
  },
  {
   "cell_type": "markdown",
   "metadata": {},
   "source": [
    "# Installation\n",
    "\n",
    "Since **CorgiSim** is still under active development, we recommend cloning the **main** branch from the repository and installing it in **editable mode**. It's also best to work in a **virtual environment** to avoid conflicts with other packages.\n",
    "\n",
    "## Step-by-step instructions\n",
    "\n",
    "1. **Clone the repository:**\n",
    "\n",
    "\n",
    "```\n",
    "    git clone -b main https://github.com/roman-corgi/corgisim.git\n",
    "    cd corgisim\n",
    "```\n",
    "2. **Install in editable mode:**\n",
    "\n",
    "```\n",
    "    pip install -e .\n",
    "```\n",
    "\n",
    "## Required dependencies\n",
    "To install the required dependencies, run:\n",
    "```\n",
    "    pip install -r requirements.txt\n",
    "```\n",
    "This will install all Python packages available via `pip`, including `synphot`.  \n",
    "For more information on `synphot`, refer to its [documentation](https://synphot.readthedocs.io/en/latest/#installation-and-setup).\n",
    "\n",
    "> ⚠️ Note: Some packages must be installed manually because they are not available on PyPI:\n",
    "\n",
    "- **cgisim**: [https://sourceforge.net/projects/cgisim/](https://sourceforge.net/projects/cgisim/)\n",
    "- **roman_preflight**: [https://sourceforge.net/projects/cgisim/files/](https://sourceforge.net/projects/cgisim/files/)\n",
    "- **PROPER**: [https://sourceforge.net/projects/proper-library/](https://sourceforge.net/projects/proper-library/)\n",
    "\n",
    "Detailed installation instructions for the required dependencies can be found in the README of Corgisim github repo: https://github.com/roman-corgi/corgisim/tree/main?tab=readme-ov-file\n",
    "\n"
   ]
  },
  {
   "cell_type": "markdown",
   "metadata": {},
   "source": [
    "# Run the first simulation\n"
   ]
  },
  {
   "cell_type": "code",
   "execution_count": null,
   "metadata": {},
   "outputs": [],
   "source": [
    "## import packages\n",
    "from corgisim import scene\n",
    "from corgisim import instrument\n",
    "import matplotlib.pyplot as plt\n",
    "import numpy as np\n",
    "import proper\n",
    "from corgisim import outputs\n",
    "from astropy.io import fits\n",
    "\n",
    "# import astropy.units as u"
   ]
  },
  {
   "cell_type": "markdown",
   "metadata": {},
   "source": [
    "#### Step 0: Copying a Prescription File\n",
    "\n",
    "To get started, you'll need a Roman CGI prescription file in your working folder. The `roman_preflight_proper` package provides a helper function to copy a default prescription file into your current working directory.         \n",
    "\n",
    "Note: If the file is already present, you can skip this step. However, you'll need to repeat it whenever you switch to a new working directory.\n",
    "\n"
   ]
  },
  {
   "cell_type": "code",
   "execution_count": null,
   "metadata": {},
   "outputs": [],
   "source": [
    "#First, import the module:\n",
    "import roman_preflight_proper\n",
    "### Then, run the following command to copy the default prescription file \n",
    "# roman_preflight_proper.copy_here()\n",
    "\n",
    "# off-axis PSF without mask? idk if this applies for 2D convolution"
   ]
  },
  {
   "cell_type": "markdown",
   "metadata": {},
   "source": [
    "### Step 1: Define the Astrophysical Scene\n",
    "\n",
    "Begin by specifying the astrophysical scene you want to simulate. This typically includes:\n",
    "\n",
    "- A **host star**\n",
    "- One or more **companions** (e.g., exoplanets or brown dwarfs)\n",
    "- *(Future feature)* A 2D background scene, such as circumstellar disks — *not yet implemented*\n",
    "\n",
    "> **Note:** As of now, only point sources (host stars and companions) are supported. 2D scene functionality will be added in future versions.\n",
    "\n",
    "#### 🔹 Host Star\n",
    "\n",
    "The following parameters are required for defining the host star:\n",
    "\n",
    "1. **Spectral type** (e.g., `\"G2V\"`)\n",
    "2. **V-band magnitude** (numeric value)\n",
    "3. **Magnitude type** — currently, only **Vega magnitude** (`\"vegamag\"`) is supported\n",
    "\n",
    "#### 🔹 Companions\n",
    "\n",
    "You may define multiple companions. For each one, specify:\n",
    "\n",
    "1. **V-band magnitude** brigtness of the companions  \n",
    "2. **Magnitude type** — currently, only **Vega magnitude** (`\"vegamag\"`) is supported  \n",
    "3. **position_x** — X-coordinate of the source position in milliarcseconds (mas), relative to the host star  \n",
    "4. **position_y** — Y-coordinate of the source position in milliarcseconds (mas), relative to the host star  \n",
    "For companion spectrum, currently, a flat spectrum will be generated based on the V-band magnitude\n",
    "\n",
    "✅ Make sure to provide values in the expected format so the simulation can interpret the astrophysical inputs correctly.\n"
   ]
  },
  {
   "cell_type": "code",
   "execution_count": null,
   "metadata": {},
   "outputs": [],
   "source": [
    "# --- Host Star Properties ---\n",
    "Vmag = 8                            # V-band magnitude of the host star\n",
    "sptype = 'G0V'                      # Spectral type of the host star\n",
    "ref_flag = False                    # if the target is a reference star or not, default is False\n",
    "host_star_properties = {'Vmag': Vmag,\n",
    "                        'spectral_type': sptype,\n",
    "                        'magtype': 'vegamag',\n",
    "                        'ref_flag': False}\n",
    "\n",
    "# --- Companion Properties ---\n",
    "# Define two companions\n",
    "mag_companion = [25, 25]           # List of magnitudes for each companion\n",
    "\n",
    "# Define their positions relative to the host star, in milliarcseconds (mas)\n",
    "# For reference: 1 λ/D at 550 nm with a 2.3 m telescope is ~49.3 mas\n",
    "# We're placing them at a separation of 3 λ/D\n",
    "dx = [3 * 49.3, -3 * 49.3]         # X positions in mas for each companion\n",
    "dy = [3 * 49.3, -3 * 49.3]         # Y positions in mas for each companion\n",
    "\n",
    "# Construct a list of dictionaries for all companion point sources\n",
    "point_source_info = [\n",
    "    {\n",
    "        'Vmag': mag_companion[0],\n",
    "        'magtype': 'vegamag',\n",
    "        'position_x': dx[0],\n",
    "        'position_y': dy[0]\n",
    "    },\n",
    "    {\n",
    "        'Vmag': mag_companion[1],\n",
    "        'magtype': 'vegamag',\n",
    "        'position_x': dx[1],\n",
    "        'position_y': dy[1]\n",
    "    }\n",
    "]\n"
   ]
  },
  {
   "cell_type": "markdown",
   "metadata": {},
   "source": [
    "#### Adding 2D scene properties "
   ]
  },
  {
   "cell_type": "code",
   "execution_count": null,
   "metadata": {},
   "outputs": [],
   "source": [
    "# --- 2D scene properties ---\n",
    "import corgisim.convolution as conv \n",
    "path = # Your path to the fits file \n",
    "fname_disk = path + 'eps_eri_su_34_2.fits' # Your disk file name\n",
    "fname_prf = # the pre-computed prf cube\n",
    "\n",
    "# settings used in the pre-computed prf cubes (see the tutorials below)\n",
    "# Below is the command used to generate the example prf_cube (do not change it, unless it's needed)\n",
    "radii_lamD = conv.build_radial_grid(\n",
    "    inner_step      = 1,     # step inside IWA (λ/D)\n",
    "    mid_step        = 1,     # step between IWA and OWA\n",
    "    iwa             = 1,     # inner working angle (λ/D)\n",
    "    owa             = 10,    # outer working angle (λ/D)\n",
    "    outer_step = 1.\n",
    ")\n",
    "azimuths_deg = conv.build_azimuth_grid(step_deg=10)\n",
    "\n",
    "# Note: The disk contrast is defined as the average surface brightness per spatial resolution element divided by the stellar flux. \n",
    "# The surface brightness is averaged over the disk regions (>50% of maximum disk flux) only, not the entire field of view (FoV).\n",
    "disk_contrast = 16   # Delta Mag (unit:mag) \n",
    "\n",
    "twoD_scene_info = {\n",
    "        'disk_model_path': fname_disk,\n",
    "        'contrast': disk_contrast, \n",
    "        'prf_cube_path': fname_prf,\n",
    "        'radii_lamD': radii_lamD,\n",
    "        'azimuths_deg': azimuths_deg\n",
    "    }\n",
    "\n",
    "# --- Create the Astrophysical Scene ---\n",
    "# This Scene object combines the host star and companion(s), and optionally a 2D scene (e.g., disk)\n",
    "base_scene = scene.Scene(host_star_properties, point_source_info, twoD_scene_info)\n",
    "\n",
    "# --- Access the generated disk spectrum ---\n",
    "sp_disk = base_scene.twoD_scene_spectrum\n",
    "\n",
    "# --- Access the generated stellar spectrum ---\n",
    "sp_star = base_scene.stellar_spectrum\n",
    "# --- Access the generated companion spectrum ---\n",
    "sp_comp = base_scene.off_axis_source_spectrum "
   ]
  },
  {
   "cell_type": "markdown",
   "metadata": {},
   "source": [
    "The output of ```base_scene.stellar_spectrum``` is a ```SourceSpectrum``` object from ```synphot``` package. Details see https://synphot.readthedocs.io/en/latest/api/synphot.spectrum.SourceSpectrum.html#synphot.spectrum.SourceSpectrum\n",
    "\n",
    "The output of ```base_scene.off_axis_source_spectrum```  is a list of ```SourceSpectrum``` object,  each corresponding to an input companion.\n",
    "\n",
    "The default unit for wavelength is **Angstrom**, and the default unit for flux density is **photlam** (photons/s/cm^2/Angstrom). For units in ```synphot``` see: https://synphot.readthedocs.io/en/latest/synphot/units.html#synphot-flux-units"
   ]
  },
  {
   "cell_type": "markdown",
   "metadata": {},
   "source": [
    "Let's plot the stellar spectrum to have a look. Currently, we only have blackbody spectrum, but will add more complated ones in future.\n"
   ]
  },
  {
   "cell_type": "code",
   "execution_count": null,
   "metadata": {},
   "outputs": [],
   "source": [
    "ax=plt.subplot(111)\n",
    "#sp.plot(ax=ax)\n",
    "lambd = np.linspace(2000, 40000, 1000)\n",
    "ax.plot(lambd , sp_star(lambd  ).value,label='corgisim stellar spectrum')\n",
    "ax.set_xlabel('wavelength (A)')\n",
    "ax.set_ylabel('flux density (photons/s/cm^2/A)')\n",
    "plt.legend()"
   ]
  },
  {
   "cell_type": "markdown",
   "metadata": {},
   "source": [
    "Let's then plot the spectrum of the first companion. Since we didn't provide a custom spectrum, it uses the default flat spectrum automatically generated based on its V-band magnitude."
   ]
  },
  {
   "cell_type": "code",
   "execution_count": null,
   "metadata": {},
   "outputs": [],
   "source": [
    "ax=plt.subplot(111)\n",
    "#sp.plot(ax=ax)\n",
    "lambd = np.linspace(2000, 40000, 1000)\n",
    "ax.plot(lambd , sp_comp[0](lambd  ).value,label='corgisim companion spectrum')\n",
    "ax.set_xlabel('wavelength (A)')\n",
    "ax.set_ylabel('flux density (photons/s/cm^2/A)')\n",
    "plt.legend()"
   ]
  },
  {
   "cell_type": "code",
   "execution_count": null,
   "metadata": {},
   "outputs": [],
   "source": [
    "ax=plt.subplot(111)\n",
    "#sp.plot(ax=ax)\n",
    "lambd = np.linspace(2000, 40000, 1000)\n",
    "ax.plot(lambd , sp_disk(lambd  ).value,label='corgisim disk spectrum')\n",
    "ax.set_xlabel('wavelength (A)')\n",
    "ax.set_ylabel('flux density (photons/s/cm^2/A)')\n",
    "plt.legend()"
   ]
  },
  {
   "cell_type": "markdown",
   "metadata": {},
   "source": [
    "#### Step 2: now you need to define the parameters for the telescope and instrument"
   ]
  },
  {
   "cell_type": "markdown",
   "metadata": {},
   "source": [
    "The simulation mode is inherited from cgisim. In general, there are three supported modes, though currently only excam is implemented."
   ]
  },
  {
   "cell_type": "code",
   "execution_count": null,
   "metadata": {},
   "outputs": [],
   "source": [
    "# Simulation mode (currently only 'excam' is implemented)\n",
    "# Options include:\n",
    "#   - 'excam': direct imaging mode (returns intensity image)\n",
    "#   - 'spec': spectral mode using the \"spc-spec\" coronagraph\n",
    "#   - 'excam_efield': like 'excam', but returns electric field across wavelengths instead of intensity\n",
    "cgi_mode = 'excam'\n"
   ]
  },
  {
   "cell_type": "markdown",
   "metadata": {},
   "source": [
    "Choose the coronagraph type to use in the simulation. As of now, only hlc is implemented."
   ]
  },
  {
   "cell_type": "code",
   "execution_count": null,
   "metadata": {},
   "outputs": [],
   "source": [
    "# Coronagraph type\n",
    "# Options (availability depends on implementation status):\n",
    "#   - 'hlc', 'hlc_band1', 'hlc_band2', 'hlc_band3', 'hlc_band4'\n",
    "#   - 'spc-spec_band2', 'spc-spec_band3'\n",
    "#   - 'spc-wide_band1', 'spc-wide_band4'\n",
    "#   - 'spc-mswc_band1', 'spc-mswc_band4'\n",
    "\n",
    "cor_type = 'hlc'\n"
   ]
  },
  {
   "cell_type": "markdown",
   "metadata": {},
   "source": [
    "Set bandpass filter to use with the selected coronagraph. The available options depend on the chosen **cor_type**.  \n",
    "For example, if using `'hlc'` or `'hlc_band1'`, valid bandpasses include: `'1'`, `'1a'`, `'1b'`, `'1c'`, `'1_all'`.  \n",
    "Refer to the table below for the valid bandpasses corresponding to each **cor_type**, as well as the definitions of the bandpasses. For more details on available bandpasses and how they’re defined, see the cgisim documentation: **cgisim_public_v4.0.pdf** You can donwload the cgisim_v4.0.zip from https://sourceforge.net/projects/cgisim/files/. The ZIP archive includes the documentation file.\n"
   ]
  },
  {
   "cell_type": "markdown",
   "metadata": {},
   "source": [
    "| **cor_type**                                               | **Allowed Bandpasses**                                  |\n",
    "|------------------------------------------------------------|----------------------------------------------------------|\n",
    "| hlc or hlc_band1                                           | 1F, 1A, 1B, 1C, 1_ALL                                    |\n",
    "| hlc_band2                                                  | 2F, 2A, 2B, 2C, 3A, 3B                                   |\n",
    "| hlc_band3                                                  | 3F, 3A, 3B, 3C, 3D, 3E, 3G                               |\n",
    "| hlc_band4                                                  | 4F, 4A, 4B, 4C                                           |\n",
    "| spc-spec_band2                                             | 2F, 2A, 2B, 2C, 3A, 3B                                   |\n",
    "| spc-spec_band2_rotated                                     | 2F, 2A, 2B, 2C, 3A, 3B                                   |\n",
    "| spc-spec or spc-spec_band3                                 | 3F, 3A, 3B, 3C, 3D, 3E, 3G                               |\n",
    "| spc-wide_band1                                             | 1F, 1A, 1B, 1C                                           |\n",
    "| spc-wide or spc-wide_band4                                 | 4F, 4A, 4B, 4C                                           |\n",
    "| spc-mswc_band1                                             | 1F, 1A, 1B, 1C                                           |\n",
    "| spc-mswc or spc-mswc_band4                                 | 4F, 4A, 4B, 4C                                           |"
   ]
  },
  {
   "cell_type": "markdown",
   "metadata": {},
   "source": [
    "| Bandpass Name | Central Wavelength λ<sub>c</sub> | FWHM Bandwidth Δλ/λ<sub>c</sub> |\n",
    "|---------------|-------------------------------|------------------------------|\n",
    "| 1F             | 575 nm                        | 10.1 %                       |\n",
    "| 1A            | 556 nm                        | 3.5 %                        |\n",
    "| 1B            | 575 nm                        | 3.3 %                        |\n",
    "| 1C            | 594 nm                        | 3.2 %                        |\n",
    "| 2F             | 660 nm                        | 17.0 %                       |\n",
    "| 2A            | 615 nm                        | 3.6 %                        |\n",
    "| 2B            | 638 nm                        | 2.8 %                        |\n",
    "| 2C            | 656 nm                        | 1.0 %                        |\n",
    "| 3F             | 730 nm                        | 16.7 %                       |\n",
    "| 3A            | 681 nm                        | 3.5 %                        |\n",
    "| 3B            | 704 nm                        | 3.4 %                        |\n",
    "| 3C            | 727 nm                        | 2.8 %                        |\n",
    "| 3G            | 752 nm                        | 3.4 %                        |\n",
    "| 3D            | 754 nm                        | 1.0 %                        |\n",
    "| 3E            | 778 nm                        | 3.5 %                        |\n",
    "| 4F             | 825 nm                        | 11.4 %                       |\n",
    "| 4A            | 792 nm                        | 3.5 %                        |\n",
    "| 4B            | 825 nm                        | 3.6 %                        |\n",
    "| 4C            | 857 nm                        | 3.5 %                        |\n"
   ]
  },
  {
   "cell_type": "code",
   "execution_count": null,
   "metadata": {},
   "outputs": [],
   "source": [
    "bandpass = '1F'"
   ]
  },
  {
   "cell_type": "markdown",
   "metadata": {},
   "source": [
    "Load a Pre-Saved DM File. Several pre-generated deformable mirror (DM) files are available for different coronagraph types and contrast configurations. The DM solution files are stored in the  ```examples ``` folder of  ```roman_preflight_proper ```\n",
    "\n",
    "Available configurations:\n",
    "- HLC:\n",
    "    hlc_ni_2e-9, hlc_ni_3e-8, hlc_ni_5e-9\n",
    "\n",
    "- SPC-Spec:\n",
    "    spc-spec_ni_1e-9, spc-spec_ni_2e-8, spc-spec_ni_4e-9\n",
    "\n",
    "- SPC-Wide:\n",
    "    spc-wide_ni_2e-8, spc-wide_ni_3e-9, spc-wide_ni_5e-9"
   ]
  },
  {
   "cell_type": "code",
   "execution_count": null,
   "metadata": {},
   "outputs": [],
   "source": [
    "cases = ['3e-8']       \n",
    "rootname = 'hlc_ni_' + cases[0]\n",
    "dm1 = proper.prop_fits_read( roman_preflight_proper.lib_dir + '/examples/'+rootname+'_dm1_v.fits' )\n",
    "dm2 = proper.prop_fits_read( roman_preflight_proper.lib_dir + '/examples/'+rootname+'_dm2_v.fits' )\n"
   ]
  },
  {
   "cell_type": "code",
   "execution_count": null,
   "metadata": {},
   "outputs": [],
   "source": [
    "##  Define the polaxis parameter. Use 10 for non-polaxis cases only, as other options are not yet implemented.\n",
    "polaxis = 10\n",
    "# output_dim define the size of the output image\n",
    "output_dim = 51\n",
    "\n",
    "### define a dictinatary to pass keywarod to proper\n",
    "### proper_keywords are the keyword arguments to the internal functions for package proper, which define the optics of coronagraph\n",
    "# use_dm1/use_dm2: if use dm\n",
    "# use_fpm: if use focal plane mask\n",
    "# use_lyot_stop: if use lyot stop \n",
    "# use_field_stop: if use field stop\n",
    "# other paramters that could pass to Proper defined by CgiSim\n",
    "\n",
    "proper_keywords ={'cor_type':cor_type, 'use_errors':2, 'polaxis':polaxis, 'output_dim':output_dim,\\\n",
    "                    'use_dm1':1, 'dm1_v':dm1, 'use_dm2':1, 'dm2_v':dm2,'use_fpm':1, 'use_lyot_stop':1,  'use_field_stop':1 }\n",
    "\n",
    "##define the corgi.optics class that hold all information about the instrument paramters                    \n",
    "optics = instrument.CorgiOptics(cgi_mode, bandpass, proper_keywords=proper_keywords, if_quiet=True)"
   ]
  },
  {
   "cell_type": "code",
   "execution_count": null,
   "metadata": {},
   "outputs": [],
   "source": [
    "proper_keywords"
   ]
  },
  {
   "cell_type": "markdown",
   "metadata": {},
   "source": [
    "Now let's plot the filter curve. \n",
    "Note that you don’t need to set up the bandpass manually when running CorgiSim — ```corgisim.optics``` will automatically select the appropriate bandpass based on the input filter number. The following is for illustration purposes only.\n",
    "\n",
    "the output of ```optics.setup_bandpass``` is ```SpectralElement``` object from ```synphot```, details see https://synphot.readthedocs.io/en/latest/api/synphot.spectrum.SpectralElement.html#synphot.spectrum.SpectralElement"
   ]
  },
  {
   "cell_type": "code",
   "execution_count": null,
   "metadata": {},
   "outputs": [],
   "source": [
    "nd_filter = 0\n",
    "# bp = optics.setup_bandpass(cgi_mode, bandpass, nd_filter )\n",
    "optics.bp.plot()"
   ]
  },
  {
   "cell_type": "markdown",
   "metadata": {},
   "source": [
    "### 💡 Tip for Delevoper\n",
    "\n",
    "If you want to integrate the stellar flux over a given bandpass, you can use the `Observation` class from `synphot`. This allows you to compute the photon count rate through a filter while accounting for the filter transmission curve. Below is an example of how to calculate the integrated photon counts for the stellar spectrum after applying a defined bandpass **bp** from the previous steps.\n",
    "\n",
    "\n",
    "> ⚠️ You **do not** need to do this step manually for running corgisim.  \n",
    "> This example is only meant to demonstrate how `corgisim` performs bandpass integration internally.\n",
    "\n"
   ]
  },
  {
   "cell_type": "code",
   "execution_count": null,
   "metadata": {},
   "outputs": [],
   "source": [
    "from synphot import  Observation\n",
    "# Compute the observed stellar spectrum within the defined bandpass\n",
    "# obs: wavelegth is in unit of angstrom\n",
    "# obs: flux is in unit of photons/s/cm^2/angstrom\n",
    "obs = Observation(base_scene.stellar_spectrum, optics.bp)\n",
    "#obs.plot()\n",
    "\n",
    "area = 35895.212    # primary effective area for Roman from cgisim in cm^2\n",
    "# Compute total photon counts integrated across the full bandpass\n",
    "counts = obs.countrate(area=area)\n",
    "print('Total counts across the bandpass:',counts)\n",
    "## you can also integrate across a narrower wavelength range within the bandpass\n",
    "counts_sub = obs.countrate(area=area,  waverange=[5700, 5800])\n",
    "print('Total counts from 5700-5800 A:',counts_sub)"
   ]
  },
  {
   "cell_type": "markdown",
   "metadata": {},
   "source": [
    "### Step 3: Generate the PSF for the on-axis star and inject companions\n",
    "\n",
    "The `get_psf` function from the `CorgiOptics` class generates the on-axis PSF for the host star. It takes the following inputs:"
   ]
  },
  {
   "cell_type": "code",
   "execution_count": null,
   "metadata": {},
   "outputs": [],
   "source": [
    "base_scene.twoD_scene_info"
   ]
  },
  {
   "cell_type": "code",
   "execution_count": null,
   "metadata": {},
   "outputs": [],
   "source": [
    "## Pass the base_scene object to corgi.optics and use get_psf to simulate the host star PSF.\n",
    "sim_scene = optics.get_host_star_psf(base_scene)\n",
    "image_star_corgi = sim_scene.host_star_image.data\n",
    "\n",
    "# simulate the planet PSF.\n",
    "sim_scene = optics.inject_point_sources(base_scene,sim_scene)\n",
    "image_comp_corgi = sim_scene.point_source_image.data "
   ]
  },
  {
   "cell_type": "code",
   "execution_count": null,
   "metadata": {},
   "outputs": [],
   "source": [
    "valid_positions = get_valid_polar_positions = conv.get_valid_polar_positions(radii_lamD, azimuths_deg)\n",
    "\n",
    "# Unpack (r in λ/D, θ in deg)\n",
    "res_mas = 49.3  # resolution at 550 nm in mas\n",
    "pix_scale_mas = 0.0218*1000  # pixel scale in mas/pixel\n",
    "r_lamD   = np.array([pos[0] for pos in valid_positions], dtype=float)\n",
    "theta_deg = np.array([pos[1].value for pos in valid_positions], dtype=float)  # degrees\n",
    "\n",
    "# Convert polar (λ/D, deg) -> Cartesian pixels\n",
    "ny, nx = image_star_corgi.shape\n",
    "cy, cx = ny // 2, nx // 2\n",
    "r_pix = r_lamD * (res_mas / pix_scale_mas)\n",
    "theta = np.deg2rad(theta_deg)\n",
    "\n",
    "x = cx + r_pix * np.cos(theta)\n",
    "y = cy + r_pix * np.sin(theta)\n",
    "\n",
    "plt.imshow(image_star_corgi, origin='lower')\n",
    "plt.scatter(x, y, s=10, label='Sample positions')\n",
    "plt.legend(); plt.title('Sampling positions on PSF image')\n",
    "plt.show()"
   ]
  },
  {
   "cell_type": "markdown",
   "metadata": {},
   "source": [
    "### Step 4: 2D Scene Setup and Field-Dependent Convolution\n",
    "\n",
    "The astrophysical scene has been initialized in `base_scene` using the configuration parameters defined above. This scene contains the host star, point source companions, and optionally a 2D extended structure (e.g., circumstellar disk). The next step involves performing field-dependent PSF convolution using pre-computed or dynamically generated PSF cubes.\n",
    "\n",
    "#### Key Configuration Parameters\n",
    "\n",
    "- **Radial Grid (`radii_lamD`)**: Defines the radial sampling points from the inner working angle to outer working angle. \n",
    "- **Azimuthal Grid (`azimuths_deg`)**: Azimuthal sampling for field-dependent PSF computation.\n",
    "- **Disk Contrast**: Set to 16 delta magnitudes, representing the average surface brightness per resolution element relative to the stellar flux.\n",
    "- **PSF Cube Path (`fname_prf`)**: Pre-computed PSF cube used for convolution operations.\n",
    "\n",
    "#### Scene Components and Spectra\n",
    "\n",
    "The `base_scene` object provides access to different spectral components:\n",
    "\n",
    "```python\n",
    "# Access individual spectral components\n",
    "sp_disk = base_scene.twoD_scene_spectrum    # Extended disk spectrum\n",
    "sp_star = base_scene.stellar_spectrum       # Host star spectrum  \n",
    "sp_comp = base_scene.off_axis_source_spectrum # Companion spectrum(s)\n",
    "```\n",
    "\n",
    "#### Field-Dependent Convolution Workflow\n",
    "\n",
    "1. **Scene Initialization**: The `base_scene` object contains the complete astrophysical model with host star, companions, and optional extended structures.\n",
    "\n",
    "2. **PSF Grid Definition**: The radial and azimuthal grids (`radii_lamD`, `azimuths_deg`) define the field-dependent sampling for PSF convolution across the detector plane.\n",
    "\n",
    "3. **Convolution Process**: The `convolution.py` module provides utilities for:\n",
    "   - Field-dependent PSF interpolation based on the defined grids\n",
    "   - Weighted convolution accounting for PSF variations across the field\n",
    "   - Integration of multiple scene components (star, companions, disk)\n",
    "\n",
    "4. **Output Generation**: After convolution, the processed scene will be available for further analysis, including:\n",
    "   - Individual component images (star, companions, disk)\n",
    "   - Combined scene image with all components\n",
    "   - Spectral information preserved throughout the process\n",
    "\n",
    "\n",
    "In the current implementation, there are two modes for performing convolution with the PSF:\n",
    "\n",
    "#### **Mode 1: Using Precomputed PRF Cubes**\n",
    "- Utilises precomputed PRF cubes stored .fits  \n",
    "- matching radial/azimuthal grids --> information (e.g., `radii_lamD_1`, `azimuths_deg_1`) or at least we need to know the command generating it if using corgisim\n",
    "\n",
    "\n",
    "#### **Mode 2: Generating PRF Cubes on the Fly**\n",
    "- Dynamically generates PRF cubes, defines sampling points in the field of view (FoV).\n",
    "\n",
    "#### Notes: Ensure grids match the PRF cube in **Mode 1**.\n",
    "\n",
    "#### Important Notes\n",
    "\n",
    "- **Disk Contrast Definition**: The 16 delta magnitude contrast represents the average surface brightness over disk regions containing >50% of maximum disk flux, not the entire field of view.\n",
    "- **Grid Resolution**: The 1 λ/D radial step and 10° azimuthal step provide adequate sampling for most coronagraphic applications while maintaining computational efficiency.\n",
    "- **PSF Cube Usage**: The pre-computed PSF cube (`fname_prf`) should match the instrument configuration and wavelength range of the current observation setup.\n",
    "\n",
    "#### Next Steps\n",
    "\n",
    "With the scene and convolution parameters configured, the next operations will involve:\n",
    "- Executing the field-dependent convolution using the `convolution.py` utilities\n",
    "- Generating the final convolved image products\n",
    "- Analyzing the resulting coronagraphic image for scientific interpretation"
   ]
  },
  {
   "cell_type": "code",
   "execution_count": null,
   "metadata": {},
   "outputs": [],
   "source": [
    "# simulate the disk\n",
    "sim_scene = optics.convolve_2d_scene(input_scene=base_scene, sim_scene=sim_scene, use_bilinear_interpolation=True)\n",
    "image_disk_corgi = sim_scene.twoD_image.data \n",
    "\n",
    "combined_image_corgi = image_star_corgi + image_disk_corgi + image_comp_corgi"
   ]
  },
  {
   "cell_type": "code",
   "execution_count": null,
   "metadata": {},
   "outputs": [],
   "source": [
    "fig = plt.figure(figsize=(12+4,4))\n",
    "plt.subplot(141)\n",
    "plt.imshow(image_star_corgi,origin='lower')\n",
    "plt.title('Host star Vmang=8, CorgiSim')\n",
    "\n",
    "co = plt.colorbar(shrink=0.7)\n",
    "plt.subplot(142)\n",
    "plt.imshow(image_disk_corgi,origin='lower')\n",
    "plt.title(r'Disk (2d scene; $\\Delta$Mag=16 mag), CorgiSim')\n",
    "co = plt.colorbar(shrink=0.7,)\n",
    "\n",
    "plt.subplot(143)\n",
    "plt.imshow(image_comp_corgi,origin='lower')\n",
    "plt.title('Companion Vmag=25, CorgiSim')\n",
    "co = plt.colorbar(shrink=0.7)\n",
    "\n",
    "plt.subplot(144)\n",
    "plt.imshow(combined_image_corgi,origin='lower')\n",
    "plt.title('Combined Image, CorgiSim')\n",
    "\n",
    "co = plt.colorbar(shrink=0.7)"
   ]
  },
  {
   "cell_type": "markdown",
   "metadata": {},
   "source": [
    "#### Step 4.1: Build Sampling Grid for Field-Dependent PSF Computation\n",
    "\n",
    "To perform field-dependent PSF computations, you need to define a sampling grid. This involves creating radial and azimuthal grids, which serve as the foundation for PSF sampling. Below is an example of how to use the `build_radial_grid` and `build_azimuth_grid` functions to construct these grids.\n",
    "\n",
    "Offsets in the radial and azimuthal grids are essential for field-dependent PSF computations because the PSF (Point Spread Function) of an optical system can vary across the field of view. These variations arise due to:\n",
    "\n",
    "1. **Field Dependence**:\n",
    "    - Optical aberrations, such as coma and astigmatism, can cause the PSF to change depending on the position in the field.\n",
    "    - The PSF at the center of the field (on-axis) is typically different from the PSF at the edges (off-axis).\n",
    "\n",
    "2. **Sampling the Field**:\n",
    "    - To accurately model and simulate the PSF across the field, we need to sample it at various positions. This is done by defining a grid of radial and azimuthal offsets.\n",
    "    - The radial grid specifies distances from the optical axis (in units of λ/D), while the azimuthal grid specifies angular positions (in degrees).\n",
    "\n",
    "3. **Interpolation**:\n",
    "    - Once the PSF is computed or measured at these grid points, it can be interpolated to estimate the PSF at any arbitrary position within the field.\n",
    "    - This ensures that the simulation accurately represents the spatially varying PSF.\n",
    "\n",
    "4. **Convolution with the Scene**:\n",
    "    - The offsets allow the PSF to be applied correctly to different parts of the astrophysical scene during convolution, ensuring that the final image accounts for field-dependent effects.\n",
    "\n",
    "In summary, these offsets are critical for capturing the spatial variations in the PSF and ensuring that the simulated images are realistic and accurate. Without these offsets, the simulation would assume a uniform PSF across the field, which is not representative of real optical systems.\n",
    "\n",
    "Below is an example of how to define the radial and azimuthal grids using the `build_radial_grid` and `build_azimuth_grid` functions:\n"
   ]
  },
  {
   "cell_type": "code",
   "execution_count": null,
   "metadata": {},
   "outputs": [],
   "source": [
    "from corgisim import convolution as conv\n",
    "import time  \n",
    "import sys\n",
    "import corgisim.convolution as conv \n",
    "\n",
    "# radial: 0, 5, 10  λ/D   (3 nodes)\n",
    "# azimuth: 0–270° in steps of 90° (4 nodes)\n",
    "\n",
    "radii_lamD_1 = conv.build_radial_grid(\n",
    "    inner_step      = 5,     # step inside IWA (λ/D)\n",
    "    mid_step        = 5,     # step between IWA and OWA\n",
    "    outer_step      = 5,     # step beyond OWA (λ/D)\n",
    "    iwa             = 0,     # inner working angle (λ/D)\n",
    "    owa             = 10,    # outer working angle (λ/D)\n",
    ")\n",
    "\n",
    "azimuths_deg_1 = conv.build_azimuth_grid(\n",
    "    step_deg        = 90  # azimuthal step in degrees\n",
    ")\n"
   ]
  },
  {
   "cell_type": "markdown",
   "metadata": {},
   "source": [
    "\n",
    "### Step 4.3 (Optional): Creating a Small Cube for Faster Processing\n",
    "\n",
    "To speed up the processing, we will create a smaller cube. This smaller cube will be used for testing and debugging purposes, ensuring quicker iterations while maintaining the core functionality.\n"
   ]
  },
  {
   "cell_type": "code",
   "execution_count": null,
   "metadata": {},
   "outputs": [],
   "source": [
    "test_prf = optics.make_prf_cube(radii_lamD_1, azimuths_deg_1)"
   ]
  },
  {
   "cell_type": "code",
   "execution_count": null,
   "metadata": {},
   "outputs": [],
   "source": [
    "from matplotlib.colors import LogNorm\n",
    "from matplotlib.animation import FuncAnimation\n",
    "from IPython.display import HTML\n",
    "import matplotlib.pyplot as plt\n",
    "import numpy as np\n",
    "\n",
    "# Create a figure and axis for the animation\n",
    "fig, ax = plt.subplots()\n",
    "im = ax.imshow(test_prf[0], cmap='viridis', norm=LogNorm(vmin=test_prf.min(), vmax=test_prf.max()))\n",
    "ax.axis('off')\n",
    "ax.set_title(\"PRF Changes Over Layers\")\n",
    "\n",
    "# Update function for the animation\n",
    "def update(frame):\n",
    "    im.set_data(test_prf[frame])\n",
    "    ax.set_title(f\"PRF Layer {frame + 1}/{test_prf.shape[0]}\")\n",
    "    return [im]\n",
    "\n",
    "# Create the animation\n",
    "ani = FuncAnimation(fig, update, frames=test_prf.shape[0], interval=200, blit=True)\n",
    "\n",
    "# Display the animation in the notebook\n",
    "HTML(ani.to_jshtml())"
   ]
  },
  {
   "cell_type": "markdown",
   "metadata": {},
   "source": [
    "#### mode 2: Generate PRF cubes on the fly\n"
   ]
  },
  {
   "cell_type": "code",
   "execution_count": null,
   "metadata": {},
   "outputs": [],
   "source": [
    "twoD_scene_info = {\n",
    "        'disk_model_path': fname_disk,\n",
    "        'contrast': disk_contrast, \n",
    "        'prf_cube_path': None,\n",
    "        'radii_lamD': None,\n",
    "        'azimuths_deg': None\n",
    "    }"
   ]
  },
  {
   "cell_type": "code",
   "execution_count": null,
   "metadata": {},
   "outputs": [],
   "source": [
    "# --- Create the Astrophysical Scene ---\n",
    "# This Scene object combines the host star and companion(s), and optionally a 2D scene (e.g., disk)\n",
    "base_scene_2 = scene.Scene(host_star_properties, point_source_info, twoD_scene_info)"
   ]
  },
  {
   "cell_type": "code",
   "execution_count": null,
   "metadata": {},
   "outputs": [],
   "source": [
    "sim_scene_2 = optics.convolve_2d_scene(base_scene_2,iwa=0, owa=10, inner_step=5, mid_step=5, outer_step=5, step_deg=90)"
   ]
  },
  {
   "cell_type": "code",
   "execution_count": null,
   "metadata": {},
   "outputs": [],
   "source": [
    "plt.imshow(sim_scene_2.twoD_image.data)"
   ]
  },
  {
   "cell_type": "markdown",
   "metadata": {},
   "source": [
    "### Step 5: Simulate the Image on the Detector\n",
    "\n",
    "So far, we've simulated images of a host star with two companions using Roman-CGI. However, we haven't yet included detector noise! In this step, we'll define a **`corgi.Detector`** object to add detector effects to the simulation.\n",
    "\n",
    "The `emccd_keywords` dictionary is passed to `instrument.CorgiDetector` to configure the EMCCD detector. It includes the following parameters:\n",
    "\n",
    "- **em_gain**: Electron multiplication gain. Default is `1000`.\n",
    "- **full_well_image**: Full well capacity for the image section. Requirement: `50,000`; CBE: `60,000`.\n",
    "- **full_well_serial**: Full well capacity for the serial register. Requirement: `90,000`; CBE: `100,000`.\n",
    "- **dark_rate**: Dark current rate in e⁻/pix/s. Requirement: `1.0`; CBE: `0.00042` (0 yrs) / `0.00056` (5 yrs).\n",
    "- **cic_noise**: Clock-induced charge noise in e⁻/pix/frame. Default: `0.01`.\n",
    "- **read_noise**: Read noise in e⁻/pix/frame. Requirement: `125`; CBE: `100`.\n",
    "- **bias**: Bias level in digital numbers (DN). Default: `0`.\n",
    "- **qe**: Quantum efficiency. Set to `1.0` here, since it's already factored into the photon counts.\n",
    "- **cr_rate**: Cosmic ray event rate in hits/cm²/s. Use `0` for no cosmic rays, `5` for L2 environment.\n",
    "- **pixel_pitch**: Pixel pitch in meters. Default: `13e-6`.\n",
    "- **e_per_dn**: Electrons per data unit after multiplication.\n",
    "- **numel_gain_register**: Number of elements in the gain register. Default: `604`.\n",
    "- **nbits**: Number of bits in the ADC (analog-to-digital converter). Default: `14`.\n",
    "- **use_traps**: Whether to simulate CTI effects using trap models. Default: `False`.\n",
    "- **date4traps**: Decimal year of observation. Only used if `use_traps=True`. Default: `2028.0`.\n"
   ]
  },
  {
   "cell_type": "code",
   "execution_count": null,
   "metadata": {},
   "outputs": [],
   "source": [
    "### emccd_keywords are the keyword arguments to the internal functions for  emccd_detect,\n",
    "###  and that everything stays the default settings unless otherwise changed.\n",
    "### In this example, we'll use the default parameters for the EMCCD detector, except for the EM gain.\n",
    "\n",
    "gain =100\n",
    "emccd_keywords ={'em_gain':gain}\n",
    "detector = instrument.CorgiDetector(emccd_keywords)"
   ]
  },
  {
   "cell_type": "markdown",
   "metadata": {},
   "source": [
    "\n",
    "The `generate_detector_image` function from the `CorgiDetector` class generates a detector image from the simulated input scene. It takes the following arguments:\n",
    "\n",
    "- **simulated_scene**: A `corgisim.scene.SimulatedScene` object that contains the noise-free scene from CorgiOptics\n",
    "- **exptime**: Exposure time in seconds.\n",
    "- **full_frame** *(bool)*: If `True`, generates a full-frame detector image and places the sub-frame within it.\n",
    "- **loc_x** *(int)*: Horizontal (x) pixel coordinate of the center where the sub-frame will be inserted. Required if `full_frame=True`.\n",
    "- **loc_y** *(int)*: Vertical (y) pixel coordinate of the center where the sub-frame will be inserted. Required if `full_frame=True`.\n"
   ]
  },
  {
   "cell_type": "code",
   "execution_count": null,
   "metadata": {},
   "outputs": [],
   "source": [
    "\n",
    "# In real observations, exposures are typically broken into a sequence of short frames (e.g., 100s per frame) to reduce the impact of cosmic ray hits.\n",
    "# The multi-exposure simulation will be shown below.\n",
    "\n",
    "exptime = 20\n",
    "sim_scene = detector.generate_detector_image(sim_scene,exptime)\n",
    "image_tot_corgi_sub= sim_scene.image_on_detector.data"
   ]
  },
  {
   "cell_type": "code",
   "execution_count": null,
   "metadata": {},
   "outputs": [],
   "source": [
    "plt.imshow(image_tot_corgi_sub,origin='lower')\n",
    "plt.title('Combined Image with detector noise (single short exposure), CorgiSim')\n",
    "\n",
    "co = plt.colorbar(shrink=0.7)"
   ]
  },
  {
   "cell_type": "markdown",
   "metadata": {},
   "source": [
    "We're not done yet! To complete the simulation, we need to generate a **Level 1 (L1) data product** — a full-frame EMCCD image.\n",
    "\n",
    "This requires placing the subframe we just simulated onto the full Roman EMCCD frame.  \n",
    "You can do this by setting the keyword `full_frame=True` in the detector call.\n",
    "\n",
    "- `loc_x` and `loc_y` specify the center position (in pixels) where the subframe should be placed on the full EMCCD frame.\n"
   ]
  },
  {
   "cell_type": "code",
   "execution_count": null,
   "metadata": {},
   "outputs": [],
   "source": [
    "sim_scene = detector.generate_detector_image(sim_scene,exptime,full_frame=True,loc_x=300, loc_y=300)\n",
    "image_tot_corgi_full = sim_scene.image_on_detector[1].data"
   ]
  },
  {
   "cell_type": "code",
   "execution_count": null,
   "metadata": {},
   "outputs": [],
   "source": [
    "plt.imshow(image_tot_corgi_full,origin='lower')\n",
    "plt.title('Combined Image full frame (single exp), CorgiSim')\n",
    "\n",
    "co = plt.colorbar(shrink=0.7)"
   ]
  },
  {
   "cell_type": "markdown",
   "metadata": {},
   "source": [
    "To aviod the impact of cosmic ray hits, here we simulate multiple exposures and median combine image."
   ]
  },
  {
   "cell_type": "code",
   "execution_count": null,
   "metadata": {},
   "outputs": [],
   "source": [
    "gain =100\n",
    "emccd_keywords ={'em_gain':gain}\n",
    "detector = instrument.CorgiDetector(emccd_keywords)\n",
    "\n",
    "\n",
    "exptime = 100 # intergration time per exposure (s) \n",
    "num_exp = 100 # number of exposures per observation\n",
    "output = np.zeros((num_exp, image_tot_corgi_sub.shape[0], image_tot_corgi_sub.shape[1]))\n",
    "for t in range(num_exp):\n",
    "    sim_scene = detector.generate_detector_image(sim_scene,exptime)\n",
    "    image_tot_corgi_sub= sim_scene.image_on_detector.data\n",
    "    output[t] = image_tot_corgi_sub\n",
    "\n",
    "\n",
    "plt.imshow(np.nanmedian(output, axis=0),origin='lower')\n",
    "plt.title('Combined Image with detector noise (multi exp: {0}s X {1}), CorgiSim'.format(exptime, num_exp))\n",
    "plt.colorbar()"
   ]
  },
  {
   "cell_type": "code",
   "execution_count": null,
   "metadata": {},
   "outputs": [],
   "source": [
    "num_exp = 100 # number of exposures per observation\n",
    "output_full = np.zeros((num_exp, image_tot_corgi_full.shape[0], image_tot_corgi_full.shape[1]))\n",
    "for t in range(num_exp):\n",
    "    sim_scene = detector.generate_detector_image(sim_scene,exptime, full_frame=True,loc_x=300, loc_y=300)\n",
    "    image_tot_corgi_full = sim_scene.image_on_detector[1].data\n",
    "    output_full[t] = image_tot_corgi_full\n",
    "\n",
    "plt.imshow(np.nanmedian(output_full, axis=0),origin='lower')\n",
    "plt.title('Combined Image full frame (multi exp combined), CorgiSim')\n",
    "\n",
    "co = plt.colorbar(shrink=0.7)"
   ]
  },
  {
   "cell_type": "code",
   "execution_count": null,
   "metadata": {},
   "outputs": [],
   "source": [
    "##you can set your output path here\n",
    "## If outdir is None, the output fits files will be saved in the current working directory.\n",
    "outdir = None\n",
    "### save intemediate products\n",
    "outputs.save_hdu_to_fits(sim_scene.host_star_image, outdir = outdir, filename='host_star_image', write_as_L1=False)\n",
    "\n",
    "### save final L1 producr\n",
    "outputs.save_hdu_to_fits(sim_scene.image_on_detector, outdir = outdir, write_as_L1=True)\n",
    "   "
   ]
  },
  {
   "cell_type": "markdown",
   "metadata": {},
   "source": []
  }
 ],
 "metadata": {
  "kernelspec": {
   "display_name": "cgisim",
   "language": "python",
   "name": "python3"
  },
  "language_info": {
   "codemirror_mode": {
    "name": "ipython",
    "version": 3
   },
   "file_extension": ".py",
   "mimetype": "text/x-python",
   "name": "python",
   "nbconvert_exporter": "python",
   "pygments_lexer": "ipython3",
   "version": "3.11.11"
  }
 },
 "nbformat": 4,
 "nbformat_minor": 4
}
